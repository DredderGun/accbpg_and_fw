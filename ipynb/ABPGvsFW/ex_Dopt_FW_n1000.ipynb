{
 "cells": [
  {
   "cell_type": "markdown",
   "metadata": {},
   "source": [
    "# D-optimal experiment design: comparing ABPG and Frank-Wolfe\n",
    "Solve the D-Optimal experiment design problem\n",
    "$$\n",
    "\\begin{array}{ll}\n",
    "\\textrm{minimize}   & F(x):=\\log\\left(\\det\\left(\\sum_{i=1}^n x_i V_i V_i^T\\right)\\right) \\\\\n",
    "\\textrm{subject to} & \\sum_{i=1}^n x_i = 1, \\\\ \n",
    "                    & x_i\\geq 0, \\quad i=1,\\ldots,n\n",
    "\\end{array}\n",
    "$$\n",
    "where $V_i\\in R^m$ for $i=1,\\ldots,n$.\n",
    "\n",
    "Methods compared:\n",
    "* Original Frank-Wolfe method\n",
    "* Frank-Wolfe method with away steps\n",
    "* Bregman Proximal Gradient (BPG) method with adaptive line search\n",
    "* Accelerated Bregman Proximal Gradient (ABPG) method with gain adaption"
   ]
  },
  {
   "cell_type": "code",
   "execution_count": 37,
   "metadata": {
    "ExecuteTime": {
     "end_time": "2024-01-25T07:26:15.707525300Z",
     "start_time": "2024-01-25T07:26:15.701856200Z"
    }
   },
   "outputs": [
    {
     "name": "stdout",
     "output_type": "stream",
     "text": [
      "[WinError 3] The system cannot find the path specified: 'C:\\\\\\\\github\\\\accbpg'\n",
      "D:\\projects\\opts\\accbpg\\ipynb\\ABPGvsFW\n"
     ]
    }
   ],
   "source": [
    "cd  C:\\\\github\\accbpg"
   ]
  },
  {
   "cell_type": "code",
   "execution_count": 7,
   "metadata": {
    "collapsed": true,
    "ExecuteTime": {
     "end_time": "2024-01-29T02:13:54.762755100Z",
     "start_time": "2024-01-29T02:13:54.756962900Z"
    }
   },
   "outputs": [],
   "source": [
    "import numpy as np\n",
    "import matplotlib\n",
    "import matplotlib.pyplot as plt\n",
    "matplotlib.rcParams.update({'font.size': 12, 'font.family': 'serif'})\n",
    "#matplotlib.rcParams.update({'text.usetex': True})\n",
    "\n",
    "import accbpg"
   ]
  },
  {
   "cell_type": "code",
   "execution_count": 18,
   "metadata": {
    "scrolled": true,
    "ExecuteTime": {
     "end_time": "2024-01-29T04:47:49.885086800Z",
     "start_time": "2024-01-29T04:39:39.072420500Z"
    }
   },
   "outputs": [
    {
     "name": "stdout",
     "output_type": "stream",
     "text": [
      "\n",
      "********** m = 100, n = 1000 **********\n",
      "\n",
      "Solving D-opt design problem using Frank-Wolfe method\n",
      "     k      F(x)     pos_slack   neg_slack    time\n",
      "     0   2.015e+01   1.848e+00   2.984e-01     0.0\n",
      "  2000  -1.694e+00   1.702e-02   3.400e-01     0.2\n",
      "  4000  -1.867e+00   1.014e-02   3.388e-01     0.4\n",
      "  6000  -1.943e+00   7.644e-03   3.381e-01     0.5\n",
      "  8000  -1.989e+00   6.085e-03   3.375e-01     0.7\n",
      " 10000  -2.019e+00   5.166e-03   3.359e-01     0.9\n",
      " 12000  -2.041e+00   4.375e-03   3.363e-01     1.1\n",
      " 14000  -2.058e+00   3.928e-03   3.360e-01     1.3\n",
      " 16000  -2.072e+00   3.451e-03   3.357e-01     1.5\n",
      " 18000  -2.083e+00   3.163e-03   3.354e-01     1.7\n",
      "\n",
      "Solving D-opt design problem using Frank-Wolfe method with away steps\n",
      "     k      F(x)     pos_slack   neg_slack    time\n",
      "     0   2.015e+01   1.848e+00   2.984e-01     0.0\n",
      "  2000  -2.209e+00   1.256e-03   1.255e-03     0.4\n",
      "  4000  -2.209e+00   5.161e-06   5.147e-06     0.7\n",
      "  6000  -2.209e+00   3.912e-08   3.787e-08     1.1\n",
      "\n",
      "FW RS adaptive method for min_{x in C} F(x) = f(x) + Psi(x)\n",
      "     k      F(x)         Lk       time\n",
      "     0   2.015e+01   5.000e-01     0.0\n",
      "  2000  -1.236e+00   6.250e-02     3.7\n",
      "  4000  -1.604e+00   6.250e-02     7.3\n",
      "  6000  -1.745e+00   6.250e-02    10.9\n",
      "  8000  -1.823e+00   6.250e-02    14.4\n",
      " 10000  -1.875e+00   6.250e-02    18.1\n",
      " 12000  -1.913e+00   6.250e-02    21.8\n",
      " 14000  -1.942e+00   6.250e-02    25.3\n",
      " 16000  -1.965e+00   6.250e-02    28.7\n",
      " 18000  -1.984e+00   6.250e-02    32.3\n",
      "\n",
      "BPG_LS method for min_{x in C} F(x) = f(x) + Psi(x)\n",
      "     k      F(x)         Lk       time\n",
      "     0   2.015e+01   5.000e-01     0.0\n",
      "  2000   2.981e+00   2.500e-01     9.5\n",
      "  4000  -1.863e+00   6.250e-02    19.1\n",
      "  6000  -2.117e+00   3.125e-02    28.7\n",
      "  8000  -2.169e+00   6.250e-02    38.8\n",
      " 10000  -2.198e+00   1.250e-01    48.9\n",
      " 12000  -2.201e+00   1.250e-01    59.1\n",
      " 14000  -2.204e+00   6.250e-02    69.1\n",
      " 16000  -2.205e+00   1.250e-01    79.3\n",
      " 18000  -2.206e+00   1.250e-01    89.4\n",
      "\n",
      "ABPG_gain method for min_{x in C} F(x) = f(x) + Psi(x)\n",
      "     k      F(x)       theta         Gk         TSG       D(x+,y)     D(z+,z)      Gavg       time\n",
      "     0   2.015e+01   1.000e+00   5.000e-01   1.000e+00   9.307e-01   9.307e-01   7.071e-01     0.0\n",
      "  2000  -5.629e-01   4.899e-02   1.000e+00   4.612e+00   3.294e-03   2.976e-01   6.591e-01    12.4\n",
      "  4000  -2.172e+00   7.321e-01   2.500e-01   9.998e-01   4.165e-05   7.773e-05   3.833e-01    25.3\n",
      "  6000  -2.208e+00   5.854e-02   1.250e-01   9.990e-01   1.809e-07   5.284e-05   2.669e-01    38.7\n",
      "  8000  -2.209e+00   1.351e-03   1.250e-01   1.940e+00   8.096e-09   2.286e-03   2.218e-01    52.6\n",
      " 10000  -2.209e+00   1.051e-03   6.250e-02   8.695e-01   2.237e-10   2.327e-04   1.987e-01    66.0\n",
      " 12000  -2.209e+00   5.753e-04   1.250e-01   8.011e-01   1.767e-11   6.665e-05   1.848e-01    79.5\n",
      " 14000  -2.209e+00   5.744e-04   1.250e-01   7.637e-01   5.354e-12   2.125e-05   1.755e-01    93.0\n",
      " 16000  -2.209e+00   5.755e-04   1.250e-01   5.119e-01   7.265e-13   4.286e-06   1.688e-01   106.4\n",
      " 18000  -2.209e+00   5.749e-04   1.250e-01   7.029e-01   8.038e-13   3.460e-06   1.637e-01   120.1\n",
      "\n",
      "Solving D-opt design problem using Frank-Wolfe method\n",
      "     k      F(x)     pos_slack   neg_slack    time\n",
      "     0   2.147e+01   2.015e+00   2.308e-01     0.0\n",
      "  2000  -2.035e+00   1.759e-02   4.033e-01     0.2\n",
      "  4000  -2.213e+00   1.010e-02   4.059e-01     0.3\n",
      "  6000  -2.290e+00   7.443e-03   4.055e-01     0.5\n",
      "  8000  -2.335e+00   6.071e-03   4.056e-01     0.7\n",
      " 10000  -2.364e+00   4.891e-03   4.056e-01     0.8\n",
      " 12000  -2.386e+00   4.391e-03   4.058e-01     1.0\n",
      " 14000  -2.403e+00   3.827e-03   4.051e-01     1.2\n",
      " 16000  -2.416e+00   3.382e-03   4.055e-01     1.3\n",
      " 18000  -2.427e+00   3.227e-03   4.052e-01     1.5\n",
      "\n",
      "Solving D-opt design problem using Frank-Wolfe method with away steps\n",
      "     k      F(x)     pos_slack   neg_slack    time\n",
      "     0   2.147e+01   2.015e+00   2.308e-01     0.0\n",
      "  2000  -2.557e+00   1.363e-03   1.327e-03     0.3\n",
      "  4000  -2.558e+00   5.104e-06   5.015e-06     0.7\n",
      "  6000  -2.558e+00   3.861e-08   3.839e-08     1.0\n",
      "\n",
      "FW RS adaptive method for min_{x in C} F(x) = f(x) + Psi(x)\n",
      "     k      F(x)         Lk       time\n",
      "     0   2.147e+01   5.000e-01     0.0\n",
      "  2000  -1.549e+00   6.250e-02     3.4\n",
      "  4000  -1.930e+00   6.250e-02     6.8\n",
      "  6000  -2.079e+00   6.250e-02    10.4\n"
     ]
    },
    {
     "ename": "KeyboardInterrupt",
     "evalue": "",
     "output_type": "error",
     "traceback": [
      "\u001B[1;31m---------------------------------------------------------------------------\u001B[0m",
      "\u001B[1;31mKeyboardInterrupt\u001B[0m                         Traceback (most recent call last)",
      "Cell \u001B[1;32mIn[14], line 28\u001B[0m\n\u001B[0;32m     26\u001B[0m _, F_WAKY, _, _, T_WAKY \u001B[38;5;241m=\u001B[39m accbpg\u001B[38;5;241m.\u001B[39mD_opt_FW_away(f\u001B[38;5;241m.\u001B[39mH, x0Mx, \u001B[38;5;241m1e-8\u001B[39m, maxitrs\u001B[38;5;241m=\u001B[39mNmax, verbskip\u001B[38;5;241m=\u001B[39mNskip)\n\u001B[0;32m     27\u001B[0m \u001B[38;5;66;03m# _, F_WAKY_RS, _, _, T_WAKY_RS = accbpg.D_opt_FW_RS(f.H, h, L, x0Mx, 1e-8, gamma=2, maxitrs=Nmax, verbskip=Nskip)\u001B[39;00m\n\u001B[1;32m---> 28\u001B[0m _, F_WAKY_RS, _, T_WAKY_RS  \u001B[38;5;241m=\u001B[39m accbpg\u001B[38;5;241m.\u001B[39mD_opt_FW_RS_adaptive(f, h, L, x0Mx, epsilon\u001B[38;5;241m=\u001B[39m\u001B[38;5;241m1e-8\u001B[39m, gamma\u001B[38;5;241m=\u001B[39m\u001B[38;5;241m2\u001B[39m, maxitrs\u001B[38;5;241m=\u001B[39mNmax, linesearch\u001B[38;5;241m=\u001B[39m\u001B[38;5;28;01mTrue\u001B[39;00m, ls_ratio\u001B[38;5;241m=\u001B[39m\u001B[38;5;241m2\u001B[39m, verbskip\u001B[38;5;241m=\u001B[39mNskip)\n\u001B[0;32m     29\u001B[0m _, F_LSKh, _, T_LSKh \u001B[38;5;241m=\u001B[39m accbpg\u001B[38;5;241m.\u001B[39mBPG(f, h, L, x0Mx, maxitrs\u001B[38;5;241m=\u001B[39mNmax, linesearch\u001B[38;5;241m=\u001B[39m\u001B[38;5;28;01mTrue\u001B[39;00m, ls_ratio\u001B[38;5;241m=\u001B[39m\u001B[38;5;241m2\u001B[39m, verbskip\u001B[38;5;241m=\u001B[39mNskip)\n\u001B[0;32m     30\u001B[0m _, F_ABKh, _, _, _, T_ABKh \u001B[38;5;241m=\u001B[39m accbpg\u001B[38;5;241m.\u001B[39mABPG_gain(f, h, L, x0Mx, gamma\u001B[38;5;241m=\u001B[39m\u001B[38;5;241m2\u001B[39m, maxitrs\u001B[38;5;241m=\u001B[39mNmax, ls_inc\u001B[38;5;241m=\u001B[39m\u001B[38;5;241m2\u001B[39m, ls_dec\u001B[38;5;241m=\u001B[39m\u001B[38;5;241m2\u001B[39m, restart\u001B[38;5;241m=\u001B[39m\u001B[38;5;28;01mTrue\u001B[39;00m, verbskip\u001B[38;5;241m=\u001B[39mNskip)\n",
      "File \u001B[1;32mD:\\projects\\opts\\accbpg\\accbpg\\D_opt_alg.py:399\u001B[0m, in \u001B[0;36mD_opt_FW_RS_adaptive\u001B[1;34m(f, h, L, x0, maxitrs, gamma, epsilon, linesearch, ls_ratio, verbose, verbskip)\u001B[0m\n\u001B[0;32m    397\u001B[0m alpha_k \u001B[38;5;241m=\u001B[39m \u001B[38;5;28mmin\u001B[39m((\u001B[38;5;241m-\u001B[39mgrad_d_prod \u001B[38;5;241m/\u001B[39m (\u001B[38;5;241m2\u001B[39m \u001B[38;5;241m*\u001B[39m L \u001B[38;5;241m*\u001B[39m div)) \u001B[38;5;241m*\u001B[39m\u001B[38;5;241m*\u001B[39m (\u001B[38;5;241m1\u001B[39m \u001B[38;5;241m/\u001B[39m (gamma \u001B[38;5;241m-\u001B[39m \u001B[38;5;241m1\u001B[39m)), \u001B[38;5;241m1\u001B[39m)\n\u001B[0;32m    398\u001B[0m x1 \u001B[38;5;241m=\u001B[39m x \u001B[38;5;241m+\u001B[39m alpha_k \u001B[38;5;241m*\u001B[39m d_k\n\u001B[1;32m--> 399\u001B[0m \u001B[38;5;28;01mif\u001B[39;00m f\u001B[38;5;241m.\u001B[39mfunc_grad(x1, flag\u001B[38;5;241m=\u001B[39m\u001B[38;5;241m0\u001B[39m) \u001B[38;5;241m<\u001B[39m\u001B[38;5;241m=\u001B[39m fx \u001B[38;5;241m+\u001B[39m alpha_k \u001B[38;5;241m*\u001B[39m grad_d_prod \u001B[38;5;241m+\u001B[39m alpha_k \u001B[38;5;241m*\u001B[39m\u001B[38;5;241m*\u001B[39m gamma \u001B[38;5;241m*\u001B[39m L \u001B[38;5;241m*\u001B[39m div:\n\u001B[0;32m    400\u001B[0m     \u001B[38;5;28;01mbreak\u001B[39;00m\n\u001B[0;32m    401\u001B[0m L \u001B[38;5;241m=\u001B[39m L \u001B[38;5;241m*\u001B[39m ls_ratio\n",
      "File \u001B[1;32mD:\\projects\\opts\\accbpg\\accbpg\\functions.py:44\u001B[0m, in \u001B[0;36mDOptimalObj.func_grad\u001B[1;34m(self, x, flag)\u001B[0m\n\u001B[0;32m     42\u001B[0m \u001B[38;5;28;01massert\u001B[39;00m x\u001B[38;5;241m.\u001B[39msize \u001B[38;5;241m==\u001B[39m \u001B[38;5;28mself\u001B[39m\u001B[38;5;241m.\u001B[39mn, \u001B[38;5;124m\"\u001B[39m\u001B[38;5;124mDOptimalObj: x.size not equal to n\u001B[39m\u001B[38;5;124m\"\u001B[39m\n\u001B[0;32m     43\u001B[0m \u001B[38;5;28;01massert\u001B[39;00m x\u001B[38;5;241m.\u001B[39mmin() \u001B[38;5;241m>\u001B[39m\u001B[38;5;241m=\u001B[39m \u001B[38;5;241m0\u001B[39m,     \u001B[38;5;124m\"\u001B[39m\u001B[38;5;124mDOptimalObj: x needs to be nonnegative\u001B[39m\u001B[38;5;124m\"\u001B[39m\n\u001B[1;32m---> 44\u001B[0m HXHT \u001B[38;5;241m=\u001B[39m np\u001B[38;5;241m.\u001B[39mdot(\u001B[38;5;28mself\u001B[39m\u001B[38;5;241m.\u001B[39mH\u001B[38;5;241m*\u001B[39mx, \u001B[38;5;28mself\u001B[39m\u001B[38;5;241m.\u001B[39mH\u001B[38;5;241m.\u001B[39mT)\n\u001B[0;32m     46\u001B[0m \u001B[38;5;28;01mif\u001B[39;00m flag \u001B[38;5;241m==\u001B[39m \u001B[38;5;241m0\u001B[39m:       \u001B[38;5;66;03m# only return function value\u001B[39;00m\n\u001B[0;32m     47\u001B[0m     f \u001B[38;5;241m=\u001B[39m \u001B[38;5;241m-\u001B[39mnp\u001B[38;5;241m.\u001B[39mlog(np\u001B[38;5;241m.\u001B[39mlinalg\u001B[38;5;241m.\u001B[39mdet(HXHT))\n",
      "File \u001B[1;32m~\\.conda\\envs\\optimization_tools\\Lib\\site-packages\\numpy\\core\\multiarray.py:741\u001B[0m, in \u001B[0;36mdot\u001B[1;34m(a, b, out)\u001B[0m\n\u001B[0;32m    671\u001B[0m \u001B[38;5;250m    \u001B[39m\u001B[38;5;124;03m\"\"\"\u001B[39;00m\n\u001B[0;32m    672\u001B[0m \u001B[38;5;124;03m    result_type(*arrays_and_dtypes)\u001B[39;00m\n\u001B[0;32m    673\u001B[0m \n\u001B[1;32m   (...)\u001B[0m\n\u001B[0;32m    736\u001B[0m \n\u001B[0;32m    737\u001B[0m \u001B[38;5;124;03m    \"\"\"\u001B[39;00m\n\u001B[0;32m    738\u001B[0m     \u001B[38;5;28;01mreturn\u001B[39;00m arrays_and_dtypes\n\u001B[1;32m--> 741\u001B[0m \u001B[38;5;129m@array_function_from_c_func_and_dispatcher\u001B[39m(_multiarray_umath\u001B[38;5;241m.\u001B[39mdot)\n\u001B[0;32m    742\u001B[0m \u001B[38;5;28;01mdef\u001B[39;00m \u001B[38;5;21mdot\u001B[39m(a, b, out\u001B[38;5;241m=\u001B[39m\u001B[38;5;28;01mNone\u001B[39;00m):\n\u001B[0;32m    743\u001B[0m \u001B[38;5;250m    \u001B[39m\u001B[38;5;124;03m\"\"\"\u001B[39;00m\n\u001B[0;32m    744\u001B[0m \u001B[38;5;124;03m    dot(a, b, out=None)\u001B[39;00m\n\u001B[0;32m    745\u001B[0m \n\u001B[1;32m   (...)\u001B[0m\n\u001B[0;32m    829\u001B[0m \n\u001B[0;32m    830\u001B[0m \u001B[38;5;124;03m    \"\"\"\u001B[39;00m\n\u001B[0;32m    831\u001B[0m     \u001B[38;5;28;01mreturn\u001B[39;00m (a, b, out)\n",
      "\u001B[1;31mKeyboardInterrupt\u001B[0m: "
     ]
    }
   ],
   "source": [
    "n = 1000\n",
    "m = [100, 200, 300, 400, 500, 600, 700, 800, 900]\n",
    "K = 3\n",
    "eps = ['1e-3', '1e-4', '1e-5', '1e-6', '1e-7', '1e-8']\n",
    "\n",
    "Nmax = 20000\n",
    "Nskip = int(Nmax/10)\n",
    "\n",
    "Ieps = dict()\n",
    "Teps = dict()\n",
    "for s in eps:\n",
    "    Ieps[s] = np.zeros((5, len(m), K))\n",
    "    Teps[s] = np.zeros((5, len(m), K))\n",
    "\n",
    "for i in range(len(m)):\n",
    "    print(\"\\n********** m = {0:d}, n = {1:d} **********\".format(m[i], n))\n",
    "    for k in range(K):\n",
    "        f, h, L, x0Kh = accbpg.D_opt_design(m[i], n)\n",
    "        x0KY = accbpg.D_opt_KYinit(f.H)\n",
    "        x0Mx = (1-1e-3)*x0KY + 1e-3*x0Kh\n",
    "\n",
    "        _, F_FWKY, _, _, T_FWKY = accbpg.D_opt_FW(f.H, x0Mx, 1e-8, maxitrs=Nmax, verbskip=Nskip)\n",
    "        _, F_WAKY, _, _, T_WAKY = accbpg.D_opt_FW_away(f.H, x0Mx, 1e-8, maxitrs=Nmax, verbskip=Nskip)\n",
    "        # _, F_WAKY_RS, _, _, T_WAKY_RS = accbpg.D_opt_FW_RS(f.H, h, L, x0Mx, 1e-8, gamma=2, maxitrs=Nmax, verbskip=Nskip)\n",
    "        _, F_WAKY_RS, _, T_WAKY_RS  = accbpg.D_opt_FW_RS_adaptive(f, h, L, x0Mx, epsilon=1e-8, gamma=2, maxitrs=Nmax, linesearch=True, ls_ratio=2, verbskip=Nskip)\n",
    "        _, F_LSKh, _, T_LSKh = accbpg.BPG(f, h, L, x0Mx, maxitrs=Nmax, linesearch=True, ls_ratio=2, verbskip=Nskip)\n",
    "        _, F_ABKh, _, _, _, T_ABKh = accbpg.ABPG_gain(f, h, L, x0Mx, gamma=2, maxitrs=Nmax, ls_inc=2, ls_dec=2, restart=True, verbskip=Nskip)\n",
    "\n",
    "        Fmin = min(F_FWKY.min(), F_WAKY.min(), F_WAKY_RS.min(), F_LSKh.min(), F_ABKh.min())\n",
    "        F = [F_FWKY, F_WAKY, F_WAKY_RS, F_LSKh, F_ABKh]\n",
    "        T = [T_FWKY, T_WAKY, T_WAKY_RS, T_LSKh, T_ABKh]\n",
    "        for s in eps:\n",
    "            for j in range(len(F)):\n",
    "                I_eps = np.nonzero(F[j] - Fmin <= float(s))\n",
    "                if len(I_eps[0]) > 0:\n",
    "                    i_eps = I_eps[0][0]\n",
    "                    t_eps = T[j][i_eps]\n",
    "                else:\n",
    "                    i_eps = Nmax + 1\n",
    "                    t_eps = T[j][-1]\n",
    "                Ieps[s][j,i,k] = i_eps\n",
    "                Teps[s][j,i,k] = t_eps"
   ]
  },
  {
   "cell_type": "code",
   "execution_count": 1,
   "metadata": {
    "ExecuteTime": {
     "end_time": "2024-01-29T06:18:42.627764400Z",
     "start_time": "2024-01-29T06:18:42.143993500Z"
    }
   },
   "outputs": [
    {
     "ename": "NameError",
     "evalue": "name 'np' is not defined",
     "output_type": "error",
     "traceback": [
      "\u001B[1;31m---------------------------------------------------------------------------\u001B[0m",
      "\u001B[1;31mNameError\u001B[0m                                 Traceback (most recent call last)",
      "Cell \u001B[1;32mIn[1], line 3\u001B[0m\n\u001B[0;32m      1\u001B[0m s \u001B[38;5;241m=\u001B[39m \u001B[38;5;124m'\u001B[39m\u001B[38;5;124m1e-3\u001B[39m\u001B[38;5;124m'\u001B[39m\n\u001B[1;32m----> 3\u001B[0m m \u001B[38;5;241m=\u001B[39m np\u001B[38;5;241m.\u001B[39marray(m)\n\u001B[0;32m      4\u001B[0m Igem \u001B[38;5;241m=\u001B[39m np\u001B[38;5;241m.\u001B[39mzeros((\u001B[38;5;241m5\u001B[39m,\u001B[38;5;28mlen\u001B[39m(m)))\n\u001B[0;32m      5\u001B[0m Imax \u001B[38;5;241m=\u001B[39m np\u001B[38;5;241m.\u001B[39mzeros((\u001B[38;5;241m5\u001B[39m,\u001B[38;5;28mlen\u001B[39m(m)))\n",
      "\u001B[1;31mNameError\u001B[0m: name 'np' is not defined"
     ]
    }
   ],
   "source": [
    "s = '1e-3'\n",
    "\n",
    "m = np.array(m)\n",
    "Igem = np.zeros((5,len(m)))\n",
    "Imax = np.zeros((5,len(m)))\n",
    "Imin = np.zeros((5,len(m)))\n",
    "Tgem = np.zeros((5,len(m)))\n",
    "Tmax = np.zeros((5,len(m)))\n",
    "Tmin = np.zeros((5,len(m)))\n",
    "\n",
    "for i in range(5):\n",
    "    for j in range(len(m)):\n",
    "        Igem[i,j] = Ieps[s][i,j].prod()**(1.0/K)\n",
    "        Imax[i,j] = Ieps[s][i,j].max() \n",
    "        Imin[i,j] = Ieps[s][i,j].min()\n",
    "        Tgem[i,j] = Teps[s][i,j].prod()**(1.0/K)\n",
    "        Tmax[i,j] = Teps[s][i,j].max()\n",
    "        Tmin[i,j] = Teps[s][i,j].min()\n",
    "\n",
    "# Plot required number of iterations and time\n",
    "plt.subplots(1, 2, figsize=(12, 4))\n",
    "plt.subplots_adjust(wspace=0.3)\n",
    "\n",
    "labels = [r\"FW-KY\", r\"FW-away\", r\"FW-SR\", r\"BPG-LS\", r\"ABPG-g\"]\n",
    "linestyles = ['k:', 'g-', 'y-.', 'b-.', 'r--']\n",
    "\n",
    "ax1 = plt.subplot(1,2,1)\n",
    "for i in range(5):\n",
    "    idx = np.nonzero(Igem[i] <= Nmax)[0]\n",
    "    if len(idx) > 0:\n",
    "        ax1.errorbar(m[idx], Igem[i,idx], yerr=[np.clip(Igem[i,idx]-Imin[i,idx], 0, None), Imax[i,idx]-Igem[i,idx]], \n",
    "                     fmt=linestyles[i], label=labels[i], marker='o', markersize=4, capsize=3)\n",
    "ax1.legend()\n",
    "ax1.set_yscale('log')\n",
    "ax1.set_xlabel(r\"$m$\")\n",
    "ax1.set_ylabel(r\"Number of iterations\")\n",
    "\n",
    "ax2 = plt.subplot(1,2,2)\n",
    "for i in range(5):\n",
    "    idx = np.nonzero(Igem[i] <= Nmax)[0]\n",
    "    if len(idx) > 0:\n",
    "        ax2.errorbar(m[idx], Tgem[i,idx], yerr=[Tgem[i,idx]-Tmin[i,idx], Tmax[i,idx]-Tgem[i,idx]], \n",
    "                     fmt=linestyles[i], label=labels[i], marker='o', markersize=4, capsize=3)\n",
    "ax2.legend()\n",
    "ax2.set_yscale('log')\n",
    "ax2.set_xlabel(r\"m\")\n",
    "ax2.set_ylabel(r\"Time (sec)\")\n"
   ]
  },
  {
   "cell_type": "code",
   "execution_count": null,
   "metadata": {
    "collapsed": true,
    "ExecuteTime": {
     "start_time": "2024-01-24T09:46:03.587517700Z"
    }
   },
   "outputs": [],
   "source": []
  }
 ],
 "metadata": {
  "kernelspec": {
   "display_name": "Python 3",
   "language": "python",
   "name": "python3"
  },
  "language_info": {
   "codemirror_mode": {
    "name": "ipython",
    "version": 3
   },
   "file_extension": ".py",
   "mimetype": "text/x-python",
   "name": "python",
   "nbconvert_exporter": "python",
   "pygments_lexer": "ipython3",
   "version": "3.6.2"
  }
 },
 "nbformat": 4,
 "nbformat_minor": 2
}
