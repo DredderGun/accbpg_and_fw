{
 "cells": [
  {
   "cell_type": "code",
   "execution_count": 1,
   "id": "1fe1a7a8eaba1c6b",
   "metadata": {
    "ExecuteTime": {
     "end_time": "2024-02-23T04:26:33.572740800Z",
     "start_time": "2024-02-23T04:26:32.137048100Z"
    }
   },
   "outputs": [],
   "source": [
    "import numpy as np\n",
    "import time\n",
    "\n",
    "import accbpg\n",
    "\n",
    "from accbpg.utils import random_point_in_l2_ball\n",
    "import pandas as pd\n",
    "\n",
    "from matplotlib import pyplot as plt\n",
    "import matplotlib"
   ]
  },
  {
   "cell_type": "markdown",
   "id": "df065a2cc593b499",
   "metadata": {},
   "source": [
    "# Суть эксперимента\n",
    "\n",
    "Сравним скорость сходимости метода Франка-Вульфа с шагом вида:\n",
    "$$\\alpha_k = \\alpha_k(L) := \\min \\{ (\\frac{-\\nabla f(x_k)^\\top d_k}{2 L V(s^k, x^k)})^{1/(\\gamma - 1)}, 1 \\}$$\n",
    ", где $V$ - дивергенция Брегмана, $1 < \\gamma \\leq 2$ - степень из свойства Triangle Scaling Exponent https://arxiv.org/pdf/1808.03045.pdf\n",
    "с алгоритмами:\n",
    "\n",
    "- BPG\n",
    "- ABPG"
   ]
  },
  {
   "cell_type": "markdown",
   "id": "6666ab7d5255c628",
   "metadata": {},
   "source": [
    "## Постановка задачи\n",
    "Рассмотрим задачу SVM в l2 шаре\n",
    "$$\n",
    "\\textrm{minimize}_x \\quad  f(x) := \\frac{1}{n} \\sum_{i=1}^n \\max\\{ 0, 1 - y_i x^\\top \\omega_i \\} + \\frac{\\lambda}{2} \\| x \\|_2^2 \\\\\n",
    "\\textrm{s.t.} \\ x\\in \\| x - c \\| \\leq R\n",
    "$$\n",
    "\n",
    "$x \\in \\mathbb{R}^n_{++}, y_i = \\{ -1, 1\\}, b \\in \\mathbb{R}_{++}$\n",
    "\n",
    "Начальная точка выбирается случайно внутри шара. Радиус и центр возьмём следующие: $R=500, с = [500, 500,...]$\n",
    "\n",
    "Для экспериментов возьмём дивергенцию The Itakura-Saito (IS) distance (см. https://arxiv.org/abs/1808.03045 с. 6). Она требует положительности x, поэтому шар будет лежать в области $\\mathbb{R}_{++}^n$\n",
    "\n",
    "В качестве тестовых данных взята выборка с банкнотами https://archive.ics.uci.edu/ml/machine-learning-databases/00267/data_banknote_authentication.txt \n",
    "\n",
    "Размер выборки: 1371 строка"
   ]
  },
  {
   "cell_type": "markdown",
   "id": "bb3c6d4e3a07baec",
   "metadata": {},
   "source": [
    "LMO функция для метода FW"
   ]
  },
  {
   "cell_type": "code",
   "execution_count": 2,
   "id": "6b72c8390951d9d1",
   "metadata": {
    "ExecuteTime": {
     "end_time": "2024-02-23T04:26:33.581704700Z",
     "start_time": "2024-02-23T04:26:33.574226800Z"
    }
   },
   "outputs": [],
   "source": [
    "def lmo_notnegative_ball(radius, center=None):\n",
    "    \"\"\"\n",
    "    The Frank-Wolfe lmo function for the l2 ball on x > 0 and x \\in ||radius||_2\n",
    "    \"\"\"\n",
    "\n",
    "    def f(g):\n",
    "        if center is None:\n",
    "            center_p = np.zeros(g)\n",
    "        else:\n",
    "            center_p = np.array([center] * g.shape[0])\n",
    "        s = -1*g*radius/np.linalg.norm(g)\n",
    "        s += center_p\n",
    "        s[s == 0] = 1e-20\n",
    "        return s\n",
    "\n",
    "    return lambda g: f(g)"
   ]
  },
  {
   "cell_type": "markdown",
   "id": "1ba35de152796666",
   "metadata": {},
   "source": [
    "Вид кода с дивергенцией"
   ]
  },
  {
   "cell_type": "code",
   "execution_count": 3,
   "id": "3c27f010db3a3289",
   "metadata": {
    "ExecuteTime": {
     "end_time": "2024-02-23T04:26:33.582741700Z",
     "start_time": "2024-02-23T04:26:33.575279100Z"
    }
   },
   "outputs": [],
   "source": [
    "from accbpg import BurgEntropy\n",
    "\n",
    "\n",
    "class BurgEntropyL2Ball(BurgEntropy):\n",
    "    \"\"\"\n",
    "    h(x) = - sum_{i=1}^n log(x[i]) used in context of solving the problem\n",
    "            min_{x in ||B||_2} f(x)\n",
    "    The ball must lie on the positive side of the axes! (x > 0)\n",
    "    \"\"\"\n",
    "    def __init__(self, lamda=0, radius=1, center=None, delta=1e-30):\n",
    "        assert lamda >= 0, \"BurgEntropyL2Projection: lamda should be nonnegative.\"\n",
    "        self.lamda = lamda\n",
    "        self.radius = radius\n",
    "        self.center = center\n",
    "        self.delta = delta\n",
    "\n",
    "    def div_prox_map(self, y, g, L):\n",
    "        \"\"\"\n",
    "        Return argmin_{x in ||B||_inf, x > 0} { <g, x> + L * D(x,y) }\n",
    "        B are with center in 0 + radius due to Burg entropy positiveness\n",
    "\n",
    "        0 < x <= 2*radius\n",
    "        \"\"\"\n",
    "        assert y.shape == g.shape, \"Vectors y and g are of different sizes.\"\n",
    "        assert L > 0, \"L is not positive.\"\n",
    "        x = L / (g - L * self.gradient(y))\n",
    "        if self.center is None:\n",
    "            center = np.zeros(x.shape)\n",
    "        else:\n",
    "            center = np.array([self.center] * x.shape[0])\n",
    "\n",
    "        x -= center\n",
    "        x /= max(self.radius, np.linalg.norm(x))\n",
    "        x *= self.radius\n",
    "        x += center\n",
    "        x[x == 0] = self.delta\n",
    "\n",
    "        assert np.linalg.norm(x - center) - self.radius <= 1e-12\n",
    "\n",
    "        return x"
   ]
  },
  {
   "cell_type": "markdown",
   "id": "ff333e06164a0ad7",
   "metadata": {},
   "source": [
    "Код алгоритма FW"
   ]
  },
  {
   "cell_type": "code",
   "execution_count": 4,
   "id": "af78c4504d30819",
   "metadata": {
    "ExecuteTime": {
     "end_time": "2024-02-23T04:26:33.661231100Z",
     "start_time": "2024-02-23T04:26:33.652297800Z"
    }
   },
   "outputs": [],
   "source": [
    "def FW_alg_div_step(f, h, L, x0, maxitrs, gamma, lmo, epsilon=1e-14, linesearch=True, ls_ratio=2,\n",
    "                    verbose=True, verbskip=1):\n",
    "    \"\"\"\n",
    "    Classic Frank-Wolfe's algorithm\n",
    "\n",
    "    Inputs:\n",
    "        f, h, L:  f is L-smooth relative to h, and Psi is defined within h\n",
    "        x0:       initial point to start algorithm\n",
    "        gamma:    triangle scaling exponent (TSE) for Bregman distance D_h(x,y)\n",
    "        maxitrs:  maximum number of iterations\n",
    "        epsilon:  stop if D_h(z[k],z[k-1]) < epsilon\n",
    "        theta_eq: calculate theta_k by solving equality using Newton's method\n",
    "        verbose:  display computational progress (True or False)\n",
    "        verbskip: number of iterations to skip between displays\n",
    "\n",
    "    Returns (x, Fx, Ls):\n",
    "        x: the last iterate of the algorithm\n",
    "        F: array storing F(x[k]) for all k\n",
    "        G: triangle scaling gains D(xk,yk)/D(zk,zk_1)/theta_k^gamma\n",
    "        T: array storing time used up to iteration k\n",
    "    \"\"\"\n",
    "    if verbose:\n",
    "        print(\"\\nFW adaptive algorithm\")\n",
    "        print(\"     k      F(x)         Lk       time\")\n",
    "\n",
    "    start_time = time.time()\n",
    "    F = np.zeros(maxitrs)\n",
    "    Ls = np.ones(maxitrs) * L\n",
    "    T = np.zeros(maxitrs)\n",
    "    delta = 1e-20\n",
    "\n",
    "    x = np.copy(x0)\n",
    "    for k in range(maxitrs):\n",
    "        fx, g = f.func_grad(x)\n",
    "        F[k] = fx + h.extra_Psi(x)\n",
    "        T[k] = time.time() - start_time\n",
    "        s_k = lmo(g)\n",
    "        d_k = s_k - x\n",
    "        div = h.divergence(s_k, x)\n",
    "        if div == 0:\n",
    "            div = delta\n",
    "\n",
    "        grad_d_prod = np.dot(g, d_k)\n",
    "        if 0 < grad_d_prod <= delta:\n",
    "            grad_d_prod = 0\n",
    "        assert grad_d_prod <= 0, \"np.dot(g, d_k) must be negative.\"\n",
    "\n",
    "        L = L / ls_ratio\n",
    "        while True:\n",
    "            alpha_k = min((-grad_d_prod / (2 * L * div)) ** (1 / (gamma - 1)), 1)\n",
    "            x1 = x + alpha_k * d_k\n",
    "            if not linesearch:\n",
    "                break\n",
    "            if f.func_grad(x1, flag=0) <= fx + alpha_k * grad_d_prod + alpha_k ** gamma * L * div:\n",
    "                break\n",
    "            L = L * ls_ratio\n",
    "        x = x1\n",
    "        x[x == 0] = delta\n",
    "\n",
    "        Ls[k] = L\n",
    "        if verbose and k % verbskip == 0:\n",
    "            print(\"{0:6d}  {1:10.3e}  {2:10.3e}  {3:6.1f}\".format(k, F[k], L, T[k]))\n",
    "\n",
    "        # stopping criteria\n",
    "        if k > 0 and abs(F[k] - F[k - 1]) < epsilon:\n",
    "            break\n",
    "\n",
    "    F = F[0:k + 1]\n",
    "    Ls = Ls[0:k + 1]\n",
    "    T = T[0:k + 1]\n",
    "    return x, F, Ls, T"
   ]
  },
  {
   "cell_type": "markdown",
   "id": "98c64d55d1d37792",
   "metadata": {},
   "source": [
    "Функция, которая будет оптимизироваться:\n",
    "\n",
    "$$\\frac{1}{n} \\sum_{i=1}^n \\max\\{ 0, 1 - y_i x^\\top \\omega_i \\} + \\frac{\\lambda}{2} \\| x \\|_2^2$$"
   ]
  },
  {
   "cell_type": "code",
   "execution_count": 5,
   "id": "5be35711e9efa716",
   "metadata": {
    "ExecuteTime": {
     "end_time": "2024-02-23T04:26:33.670364300Z",
     "start_time": "2024-02-23T04:26:33.660712200Z"
    }
   },
   "outputs": [],
   "source": [
    "from accbpg import RSmoothFunction\n",
    "\n",
    "\n",
    "class SoftMarginLoss(RSmoothFunction):\n",
    "    def __init__(self, lamda, A, y):\n",
    "        self.lamda = lamda\n",
    "        self.A = A\n",
    "        self.y = y\n",
    "\n",
    "    def __call__(self, x):\n",
    "        return self.F(x)\n",
    "\n",
    "    def hinge_loss(self, x):\n",
    "        return np.mean(np.maximum(0, 1 - self.y * np.dot(self.A, x)))\n",
    "\n",
    "    def F(self, x):\n",
    "        # return self.hinge_loss(x)\n",
    "        return self.hinge_loss(x) + self.lamda * np.dot(x, x)\n",
    "\n",
    "    def gradient(self, x):\n",
    "        return self.func_grad(x, flag=1)\n",
    "\n",
    "    def subgradient_loss(self, x):\n",
    "        indicator = (1 - self.y * np.dot(self.A, x) < 1).astype(int)\n",
    "        return np.mean(np.multiply(indicator[:, np.newaxis], np.multiply(self.y[:, np.newaxis], self.A)), axis=0)\n",
    "\n",
    "    def func_grad(self, x, flag=2):\n",
    "\n",
    "        if flag == 0:\n",
    "            fx = self.F(x)\n",
    "            return fx\n",
    "\n",
    "        g = self.lamda * x - self.subgradient_loss(x)\n",
    "        if flag == 1:\n",
    "            return g\n",
    "\n",
    "        fx = self.F(x)\n",
    "        return fx, g"
   ]
  },
  {
   "cell_type": "markdown",
   "id": "846efefb5f08ce6c",
   "metadata": {},
   "source": [
    "Подготовка данных для запуска алгоритмов"
   ]
  },
  {
   "cell_type": "code",
   "execution_count": 6,
   "id": "5cc09647dc3df403",
   "metadata": {
    "ExecuteTime": {
     "end_time": "2024-02-23T04:26:33.671373700Z",
     "start_time": "2024-02-23T04:26:33.663898Z"
    }
   },
   "outputs": [],
   "source": [
    "def svm_alg_banknote(radius=1, center=None):\n",
    "    X = pd.read_csv('https://archive.ics.uci.edu/ml/machine-learning-databases/00267/data_banknote_authentication.txt')\n",
    "    Y = X['0'].to_numpy()\n",
    "    X = X.to_numpy()\n",
    "\n",
    "    f = SoftMarginLoss(0.5, X, Y)\n",
    "\n",
    "    if center is None:\n",
    "        center = np.array([radius + 1] * X.shape[1])\n",
    "\n",
    "    h = BurgEntropyL2Ball(lamda=0.5, radius=radius, center=radius + 1)\n",
    "    L = max(X.sum(axis=0))\n",
    "    x0 = random_point_in_l2_ball(center, radius)\n",
    "    assert np.linalg.norm(x0 - center) <= radius\n",
    "\n",
    "    return f, h, L, x0"
   ]
  },
  {
   "cell_type": "markdown",
   "id": "9f0f42400dbd0e0c",
   "metadata": {},
   "source": [
    "Запуск алгоритмов"
   ]
  },
  {
   "cell_type": "code",
   "execution_count": 12,
   "id": "a9abd30b78247d01",
   "metadata": {
    "ExecuteTime": {
     "end_time": "2024-02-23T04:27:15.500179300Z",
     "start_time": "2024-02-23T04:27:14.229853900Z"
    }
   },
   "outputs": [],
   "source": [
    "radius = 1000\n",
    "maxitrs = 1000\n",
    "ls_ratio = 2.0\n",
    "gamma = 2.0\n",
    "f, h, L, x0 = accbpg.svm_alg_banknote(radius=radius)"
   ]
  },
  {
   "cell_type": "code",
   "execution_count": 13,
   "id": "2eec6b2e6b14e3e8",
   "metadata": {
    "ExecuteTime": {
     "end_time": "2024-02-23T04:27:17.257869300Z",
     "start_time": "2024-02-23T04:27:17.245069800Z"
    }
   },
   "outputs": [
    {
     "name": "stdout",
     "output_type": "stream",
     "text": [
      "\n",
      "FW adaptive algorithm\n",
      "     k      F(x)         Lk       time\n",
      "     0   2.499e+06   1.314e+03     0.0\n",
      "\n",
      "BPG_LS method for min_{x in C} F(x) = f(x) + Psi(x)\n",
      "     k      F(x)         Lk       time\n",
      "     0   2.499e+06   1.314e+03     0.0\n",
      "\n",
      "ABPG method for minimize_{x in C} F(x) = f(x) + Psi(x)\n",
      "     k      F(x)       theta        TSG       D(x+,y)     D(z+,z)     time\n",
      "     0   2.499e+06   1.000e+00   1.000e+00   7.118e-01   7.118e-01     0.0\n"
     ]
    }
   ],
   "source": [
    "x00_FW, F00_FW, G00_FW, T00_FW = accbpg.FW_alg_div_step(f, h, L, x0, lmo=accbpg.lmo_notnegative_ball(radius, center=radius),\n",
    "                                                                maxitrs=maxitrs, gamma=gamma, ls_ratio=ls_ratio, verbskip=100)\n",
    "x00, F00, G00, T00 = accbpg.BPG(f, h, L, x0, maxitrs=maxitrs, linesearch=True, ls_ratio=ls_ratio, verbskip=100)\n",
    "x20, F20, G20, T20 = accbpg.ABPG(f, h, L, x0, gamma=gamma, maxitrs=maxitrs, theta_eq=True, verbskip=100)"
   ]
  },
  {
   "cell_type": "markdown",
   "id": "b25f22720f3be239",
   "metadata": {},
   "source": [
    "Графики\n",
    "\n",
    "## Выводы\n",
    "\n",
    "Все алгоритмы справляются с задачей очень быстро в пределах 20 итераций. Метод FW иногда незначительно обходит конкуретнов, но в общем и целом с задачей все алгоритмы справляются примерно одинаково. Эксперимент запускаля много раз и картина сохранялась раз за разом"
   ]
  },
  {
   "cell_type": "code",
   "execution_count": 16,
   "id": "534b6dcd71f63d33",
   "metadata": {
    "ExecuteTime": {
     "end_time": "2024-02-23T04:29:13.675502600Z",
     "start_time": "2024-02-23T04:29:13.528203500Z"
    }
   },
   "outputs": [
    {
     "name": "stderr",
     "output_type": "stream",
     "text": [
      "C:\\Users\\alexa\\AppData\\Local\\Temp\\ipykernel_18504\\814589948.py:9: MatplotlibDeprecationWarning: Auto-removal of overlapping axes is deprecated since 3.6 and will be removed two minor releases later; explicitly call ax.remove() as needed.\n",
      "  ax1 = plt.subplot(1, 1, 1)\n"
     ]
    },
    {
     "data": {
      "image/png": "[encoded data removed]",
      "text/plain": [
       "<Figure size 1100x400 with 1 Axes>"
      ]
     },
     "metadata": {},
     "output_type": "display_data"
    }
   ],
   "source": [
    "matplotlib.rcParams.update({'font.size': 16, 'legend.fontsize': 14, 'font.family': 'serif'})\n",
    "\n",
    "fig, _ = plt.subplots(1, 2, figsize=(11, 4))\n",
    "\n",
    "labels = [r\"FW\", r\"BPG\", r\"ABPG\"]\n",
    "styles = ['r:', 'g-', 'b-.']\n",
    "dashes = [[1, 2], [], [4, 2, 1, 2], [], [4, 2]]\n",
    "\n",
    "ax1 = plt.subplot(1, 1, 1)\n",
    "y_vals = [F00_FW, F00, F20]\n",
    "accbpg.plot_comparisons(ax1, y_vals, labels, x_vals=[], plotdiff=True, yscale=\"linear\", xlim=[0, 20],\n",
    "                        ylim=[], xlabel=r\"Iteration number $k$\", ylabel=r\"$F(x_k)$\", legendloc=\"upper right\",\n",
    "                        linestyles=styles, linedash=dashes)\n",
    "\n",
    "plt.tight_layout(w_pad=4)"
   ]
  }
 ],
 "metadata": {
  "kernelspec": {
   "display_name": "Python 3 (ipykernel)",
   "language": "python",
   "name": "python3"
  },
  "language_info": {
   "codemirror_mode": {
    "name": "ipython",
    "version": 3
   },
   "file_extension": ".py",
   "mimetype": "text/x-python",
   "name": "python",
   "nbconvert_exporter": "python",
   "pygments_lexer": "ipython3",
   "version": "3.11.4"
  }
 },
 "nbformat": 4,
 "nbformat_minor": 5
}
