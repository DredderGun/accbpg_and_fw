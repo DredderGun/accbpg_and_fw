{
 "cells": [
  {
   "cell_type": "code",
   "outputs": [],
   "source": [
    "import matplotlib\n",
    "import matplotlib.pyplot as plt\n",
    "import accbpg\n",
    "\n",
    "matplotlib.rcParams.update({'font.size': 12, 'font.family': 'serif'})"
   ],
   "metadata": {
    "collapsed": false
   },
   "id": "c37c791d927376d6"
  },
  {
   "cell_type": "code",
   "outputs": [],
   "source": [
    "max_itrs = 500\n",
    "\n",
    "m = 800\n",
    "n = 2000\n",
    "f, h, L, x0Kh = accbpg.D_opt_design(m, n)\n",
    "x0KY = accbpg.D_opt_KYinit(f.H)\n",
    "x0 = (1 - 1e-3) * x0KY + 1e-3 * x0Kh\n",
    "\n",
    "x30_fw, F30_fw, G30_fw, T30_fw = accbpg.FW_alg_div_step(f, h, L, x0, lmo=accbpg.lmo_simplex(), maxitrs=max_itrs, gamma=2.0, ls_ratio=2, verbskip=100)\n",
    "_, F_FWKY, _, _, T_FWKY = accbpg.D_opt_FW(f.H, x0KY, 1e-8, maxitrs=max_itrs, verbskip=100)\n",
    "_, F_WAKY, _, _, T_WAKY = accbpg.D_opt_FW_away(f.H, x0KY, 1e-8, maxitrs=max_itrs, verbskip=100)"
   ],
   "metadata": {
    "collapsed": false
   },
   "id": "9688512557b27ac2"
  },
  {
   "cell_type": "code",
   "outputs": [],
   "source": [
    "# Plot the objective gap and estimated gains for triangle scaling\n",
    "# fig, _ = plt.subplots(1, 2, figsize=(11, 4))\n",
    "# \n",
    "labels = [r\"FW, RS\", \"FW classic\", \"FW away\"]\n",
    "styles = ['k:', 'g-', 'b-.', 'k-', 'r--']\n",
    "dashes = [[1, 2], [], [4, 2, 1, 2], [], [4, 2]]\n",
    "\n",
    "ax1 = plt.subplot(2, 1, 1)\n",
    "y_vals = [F30_fw, F_FWKY, F_WAKY]\n",
    "accbpg.plot_comparisons(ax1, y_vals, labels, x_vals=[], plotdiff=True, yscale=\"log\", xlabel=r\"Iteration number $k$\", ylabel=r\"$F(x_k)-F_\\star$\", legendloc=\"outside\", linestyles=styles, linedash=dashes)\n",
    "\n",
    "ax2 = plt.subplot(2, 1, 2)\n",
    "y_vals = [T30_fw, T_FWKY, T_WAKY]\n",
    "accbpg.plot_comparisons(ax2, y_vals, labels, x_vals=[], plotdiff=False, yscale=\"log\", xlabel=r\"Iteration number $k$\", ylabel=r'time', legendloc=\"outside\", linestyles=styles, linedash=dashes)\n",
    "\n",
    "plt.tight_layout(w_pad=4)\n",
    "plt.show()"
   ],
   "metadata": {
    "collapsed": true
   },
   "id": "initial_id",
   "execution_count": 0
  }
 ],
 "metadata": {
  "kernelspec": {
   "display_name": "Python 3",
   "language": "python",
   "name": "python3"
  },
  "language_info": {
   "codemirror_mode": {
    "name": "ipython",
    "version": 2
   },
   "file_extension": ".py",
   "mimetype": "text/x-python",
   "name": "python",
   "nbconvert_exporter": "python",
   "pygments_lexer": "ipython2",
   "version": "2.7.6"
  }
 },
 "nbformat": 4,
 "nbformat_minor": 5
}
